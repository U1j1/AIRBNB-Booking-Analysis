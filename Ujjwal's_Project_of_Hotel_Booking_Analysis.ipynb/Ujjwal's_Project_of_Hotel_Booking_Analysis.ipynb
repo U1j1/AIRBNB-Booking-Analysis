{
  "nbformat": 4,
  "nbformat_minor": 0,
  "metadata": {
    "colab": {
      "private_outputs": true,
      "provenance": [],
      "collapsed_sections": [
        "vncDsAP0Gaoa",
        "FJNUwmbgGyua",
        "w6K7xa23Elo4",
        "yQaldy8SH6Dl",
        "PH-0ReGfmX4f",
        "mDgbUHAGgjLW",
        "O_i_v8NEhb9l",
        "HhfV-JJviCcP",
        "Y3lxredqlCYt",
        "3RnN4peoiCZX",
        "x71ZqKXriCWQ",
        "7hBIi_osiCS2",
        "JlHwYmJAmNHm",
        "35m5QtbWiB9F",
        "PoPl-ycgm1ru",
        "H0kj-8xxnORC",
        "nA9Y7ga8ng1Z",
        "PBTbrJXOngz2",
        "u3PMJOP6ngxN",
        "dauF4eBmngu3",
        "bKJF3rekwFvQ",
        "MSa1f5Uengrz",
        "GF8Ens_Soomf",
        "0wOQAZs5pc--",
        "K5QZ13OEpz2H",
        "lQ7QKXXCp7Bj",
        "448CDAPjqfQr",
        "KSlN3yHqYklG",
        "t6dVpIINYklI",
        "ijmpgYnKYklI",
        "-JiQyfWJYklI",
        "EM7whBJCYoAo",
        "fge-S5ZAYoAp",
        "85gYPyotYoAp",
        "RoGjAbkUYoAp",
        "4Of9eVA-YrdM",
        "iky9q4vBYrdO",
        "F6T5p64dYrdO",
        "y-Ehk30pYrdP",
        "bamQiAODYuh1",
        "QHF8YVU7Yuh3",
        "GwzvFGzlYuh3",
        "qYpmQ266Yuh3",
        "OH-pJp9IphqM",
        "bbFf2-_FphqN",
        "_ouA3fa0phqN",
        "Seke61FWphqN",
        "PIIx-8_IphqN",
        "t27r6nlMphqO",
        "r2jJGEOYphqO",
        "b0JNsNcRphqO",
        "BZR9WyysphqO",
        "jj7wYXLtphqO",
        "eZrbJ2SmphqO",
        "rFu4xreNphqO",
        "YJ55k-q6phqO",
        "gCFgpxoyphqP",
        "OVtJsKN_phqQ",
        "lssrdh5qphqQ",
        "U2RJ9gkRphqQ",
        "1M8mcRywphqQ",
        "tgIPom80phqQ",
        "JMzcOPDDphqR",
        "x-EpHcCOp1ci",
        "X_VqEhTip1ck",
        "8zGJKyg5p1ck",
        "PVzmfK_Ep1ck",
        "n3dbpmDWp1ck",
        "ylSl6qgtp1ck",
        "ZWILFDl5p1ck",
        "M7G43BXep1ck",
        "Ag9LCva-p1cl",
        "E6MkPsBcp1cl",
        "2cELzS2fp1cl",
        "3MPXvC8up1cl",
        "NC_X3p0fY2L0",
        "UV0SzAkaZNRQ",
        "YPEH6qLeZNRQ",
        "q29F0dvdveiT",
        "EXh0U9oCveiU",
        "22aHeOlLveiV",
        "JcMwzZxoAimU",
        "8G2x9gOozGDZ",
        "gCX9965dhzqZ",
        "gIfDvo9L0UH2"
      ],
      "include_colab_link": true
    },
    "kernelspec": {
      "name": "python3",
      "display_name": "Python 3"
    },
    "language_info": {
      "name": "python"
    }
  },
  "cells": [
    {
      "cell_type": "markdown",
      "metadata": {
        "id": "view-in-github",
        "colab_type": "text"
      },
      "source": [
        "<a href=\"https://colab.research.google.com/github/U1j1/Hotel-Booking-Analysis/blob/main/Ujjwal's_Project_of_Hotel_Booking_Analysis.ipynb/Ujjwal's_Project_of_Hotel_Booking_Analysis.ipynb\" target=\"_parent\"><img src=\"https://colab.research.google.com/assets/colab-badge.svg\" alt=\"Open In Colab\"/></a>"
      ]
    },
    {
      "cell_type": "markdown",
      "source": [
        "# **Project Name**    -\n",
        "\n"
      ],
      "metadata": {
        "id": "vncDsAP0Gaoa"
      }
    },
    {
      "cell_type": "markdown",
      "source": [
        "##### **Project Type**    - EDA\n",
        "\n",
        "##### **Contribution**    - Individual\n",
        "##### **Member 1 -** - Ujjwal Shrivastava\n",
        "\n"
      ],
      "metadata": {
        "id": "beRrZCGUAJYm"
      }
    },
    {
      "cell_type": "markdown",
      "source": [
        "# **Project Summary -**"
      ],
      "metadata": {
        "id": "FJNUwmbgGyua"
      }
    },
    {
      "cell_type": "markdown",
      "source": [
        "This data set contains booking information for a city hotel and a resort hotel and includes information such as when the booking was made, length of stay, the number of adults, children, and/or babies, and the number of available parking spaces, among other things. All personally identifying information has from the data. We will perform exploratory data analysis with python to get insight from the data. This dataset id made of 113900 rows and 32 columns with some duplication and also this is a properly big dataset for training any model and using it for providing details to the hotel management satff for their business betterment.\n",
        "\n",
        "This EDA project helps hotels and resorts to get details about the small details that they can miss on daily basis and there are some important details which would upscale their business. This EDA will get them the deatils about the visitors and their specific needs and also if they were repeatitive customers or a new comer.This is also very useful for small resorts owners also giving them details about the ways they can increase their business."
      ],
      "metadata": {
        "id": "F6v_1wHtG2nS"
      }
    },
    {
      "cell_type": "markdown",
      "source": [
        "# **GitHub Link -**"
      ],
      "metadata": {
        "id": "w6K7xa23Elo4"
      }
    },
    {
      "cell_type": "markdown",
      "source": [
        "Provide your GitHub Link here."
      ],
      "metadata": {
        "id": "h1o69JH3Eqqn"
      }
    },
    {
      "cell_type": "markdown",
      "source": [
        "# **Problem Statement**\n"
      ],
      "metadata": {
        "id": "yQaldy8SH6Dl"
      }
    },
    {
      "cell_type": "markdown",
      "source": [
        "**Write Problem Statement Here.**\n",
        "\n",
        "#### For this project we will be analyzing Hotel Booking data.This dataset conatins booking information for a city hotel and resort hotel. and includes information such as when the booking was made, length of stay etc.\n",
        "\n",
        "####Hotel industry is a very volatile industry and the bookings depends on above factors and many more. The main obejctive of this project is to explore and analyze data to discover important factors that govern the bookings and give insights to hotel management, which can perform various campaigns to boost the business and performance.  "
      ],
      "metadata": {
        "id": "DpeJGUA3kjGy"
      }
    },
    {
      "cell_type": "markdown",
      "source": [
        "#### **Define Your Business Objective?**"
      ],
      "metadata": {
        "id": "PH-0ReGfmX4f"
      }
    },
    {
      "cell_type": "markdown",
      "source": [
        "#### The volatile industry of hotel management will be very beneficial using this data as we know the factors on which the data depends and the hotel management staff can rely on this data and visualizations inorder to get an aswer to their existing probltms and solve them by using various measures.\n"
      ],
      "metadata": {
        "id": "PhDvGCAqmjP1"
      }
    },
    {
      "cell_type": "markdown",
      "source": [
        "# **General Guidelines** : -  "
      ],
      "metadata": {
        "id": "mDgbUHAGgjLW"
      }
    },
    {
      "cell_type": "markdown",
      "source": [
        "1.   Well-structured, formatted, and commented code is required.\n",
        "2.   Exception Handling, Production Grade Code & Deployment Ready Code will be a plus. Those students will be awarded some additional credits.\n",
        "     \n",
        "     The additional credits will have advantages over other students during Star Student selection.\n",
        "       \n",
        "             [ Note: - Deployment Ready Code is defined as, the whole .ipynb notebook should be executable in one go\n",
        "                       without a single error logged. ]\n",
        "\n",
        "3.   Each and every logic should have proper comments.\n",
        "4. You may add as many number of charts you want. Make Sure for each and every chart the following format should be answered.\n",
        "        \n",
        "\n",
        "```\n",
        "# Chart visualization code\n",
        "```\n",
        "            \n",
        "\n",
        "*   Why did you pick the specific chart?\n",
        "*   What is/are the insight(s) found from the chart?\n",
        "* Will the gained insights help creating a positive business impact?\n",
        "Are there any insights that lead to negative growth? Justify with specific reason.\n",
        "\n",
        "5. You have to create at least 20 logical & meaningful charts having important insights.\n",
        "\n",
        "\n",
        "[ Hints : - Do the Vizualization in  a structured way while following \"UBM\" Rule.\n",
        "\n",
        "U - Univariate Analysis,\n",
        "\n",
        "B - Bivariate Analysis (Numerical - Categorical, Numerical - Numerical, Categorical - Categorical)\n",
        "\n",
        "M - Multivariate Analysis\n",
        " ]\n",
        "\n",
        "\n",
        "\n"
      ],
      "metadata": {
        "id": "ZrxVaUj-hHfC"
      }
    },
    {
      "cell_type": "markdown",
      "source": [
        "# ***Let's Begin !***"
      ],
      "metadata": {
        "id": "O_i_v8NEhb9l"
      }
    },
    {
      "cell_type": "markdown",
      "source": [
        "## ***1. Know Your Data***"
      ],
      "metadata": {
        "id": "HhfV-JJviCcP"
      }
    },
    {
      "cell_type": "markdown",
      "source": [
        "### Import Libraries"
      ],
      "metadata": {
        "id": "Y3lxredqlCYt"
      }
    },
    {
      "cell_type": "code",
      "source": [
        "# Import Libraries\n",
        "import pandas as pd\n",
        "import seaborn as sns\n",
        "import numpy as np\n",
        "from matplotlib import pyplot as plt\n",
        "%matplotlib inline\n",
        "from sklearn.preprocessing import StandardScaler\n",
        "pd.set_option('display.max_columns', 500)"
      ],
      "metadata": {
        "id": "M8Vqi-pPk-HR"
      },
      "execution_count": null,
      "outputs": []
    },
    {
      "cell_type": "markdown",
      "source": [
        "### Dataset Loading"
      ],
      "metadata": {
        "id": "3RnN4peoiCZX"
      }
    },
    {
      "cell_type": "code",
      "source": [
        "# Load Dataset\n",
        "hotel = pd.read_csv(\"Hotel Bookings.csv\")"
      ],
      "metadata": {
        "id": "4CkvbW_SlZ_R"
      },
      "execution_count": null,
      "outputs": []
    },
    {
      "cell_type": "markdown",
      "source": [
        "### Dataset First View"
      ],
      "metadata": {
        "id": "x71ZqKXriCWQ"
      }
    },
    {
      "cell_type": "code",
      "source": [
        "# Dataset First Look\n",
        "hotel.head()"
      ],
      "metadata": {
        "id": "LWNFOSvLl09H"
      },
      "execution_count": null,
      "outputs": []
    },
    {
      "cell_type": "markdown",
      "source": [
        "### Dataset Rows & Columns count"
      ],
      "metadata": {
        "id": "7hBIi_osiCS2"
      }
    },
    {
      "cell_type": "code",
      "source": [
        "# Dataset Rows & Columns count\n",
        "hotel.shape"
      ],
      "metadata": {
        "id": "Kllu7SJgmLij"
      },
      "execution_count": null,
      "outputs": []
    },
    {
      "cell_type": "markdown",
      "source": [
        "### Dataset Information"
      ],
      "metadata": {
        "id": "JlHwYmJAmNHm"
      }
    },
    {
      "cell_type": "code",
      "source": [
        "# Dataset Info\n",
        "hotel.info()"
      ],
      "metadata": {
        "id": "e9hRXRi6meOf"
      },
      "execution_count": null,
      "outputs": []
    },
    {
      "cell_type": "markdown",
      "source": [
        "#### Duplicate Values"
      ],
      "metadata": {
        "id": "35m5QtbWiB9F"
      }
    },
    {
      "cell_type": "code",
      "source": [
        "# Dataset Duplicate Value Count\n",
        "hotel.duplicated().value_counts()"
      ],
      "metadata": {
        "id": "1sLdpKYkmox0"
      },
      "execution_count": null,
      "outputs": []
    },
    {
      "cell_type": "markdown",
      "source": [
        "#### Missing Values/Null Values"
      ],
      "metadata": {
        "id": "PoPl-ycgm1ru"
      }
    },
    {
      "cell_type": "code",
      "source": [
        "# Missing Values/Null Values Count\n",
        "hotel.isnull().sum()"
      ],
      "metadata": {
        "id": "GgHWkxvamxVg"
      },
      "execution_count": null,
      "outputs": []
    },
    {
      "cell_type": "code",
      "source": [
        "#LET'S DROP THE COLUMNS WITH UNNECESSARILY HIGH NULL VALUES\n",
        "hotel = hotel.drop([\"agent\" , \"company\"],axis =1)"
      ],
      "metadata": {
        "id": "8hbCoDBzZQAn"
      },
      "execution_count": null,
      "outputs": []
    },
    {
      "cell_type": "code",
      "source": [
        "hotel = hotel.dropna(axis=0)"
      ],
      "metadata": {
        "id": "F2tnbuTkZxIl"
      },
      "execution_count": null,
      "outputs": []
    },
    {
      "cell_type": "code",
      "source": [
        "hotel.isnull().sum()"
      ],
      "metadata": {
        "id": "d3dO4WDHZ5vG"
      },
      "execution_count": null,
      "outputs": []
    },
    {
      "cell_type": "code",
      "source": [
        "hotel.columns = ['Hotel', 'Canceled', 'LeadTime', 'ArrivingYear', 'ArrivingMonth', 'ArrivingWeek','ArrivingDate', 'WeekendStay',\n",
        "              'WeekStay', 'Adults', 'Children', 'Babies', 'Meal','Country', 'Segment', 'DistChannel','RepeatGuest', 'PrevCancel',\n",
        "              'PrevBook', 'BookRoomType','AssignRoomType', 'ChangeBooking', 'DepositType', 'WaitingDays',\n",
        "              'CustomerType', 'ADR','ParkSpace', 'SpecialRequest','Reservation', 'ReservationDate']"
      ],
      "metadata": {
        "id": "IIpydFEhfouM"
      },
      "execution_count": null,
      "outputs": []
    },
    {
      "cell_type": "markdown",
      "source": [
        "### What did you know about your dataset?"
      ],
      "metadata": {
        "id": "H0kj-8xxnORC"
      }
    },
    {
      "cell_type": "markdown",
      "source": [
        "#### The dataset untill now has 119390 rows and 31 colums which will be altered in the furthur steps as we have some duplication and also some null values in then and also we can say that some columns used in the EDA are not useful so to lessen the burden the machine we can exclude them. Also this Dataset contains all the booking details of a Hotel or resort with different datatypes as its variables.\n"
      ],
      "metadata": {
        "id": "gfoNAAC-nUe_"
      }
    },
    {
      "cell_type": "markdown",
      "source": [
        "## ***2. Understanding Your Variables***"
      ],
      "metadata": {
        "id": "nA9Y7ga8ng1Z"
      }
    },
    {
      "cell_type": "code",
      "source": [
        "# Dataset Columns\n",
        "hotel.columns"
      ],
      "metadata": {
        "id": "j7xfkqrt5Ag5"
      },
      "execution_count": null,
      "outputs": []
    },
    {
      "cell_type": "code",
      "source": [
        "# Dataset Describe\n",
        "hotel.describe()"
      ],
      "metadata": {
        "id": "DnOaZdaE5Q5t"
      },
      "execution_count": null,
      "outputs": []
    },
    {
      "cell_type": "markdown",
      "source": [
        "### Variables Description"
      ],
      "metadata": {
        "id": "PBTbrJXOngz2"
      }
    },
    {
      "cell_type": "markdown",
      "source": [
        "######## Data Description\n",
        "1. hotel : Resort hotel or city hotel\n",
        "2. is_cancelled: Value indicating if the booking is cancelled(1) or done(0)\n",
        "3.lead_time : Number of days that elpased netween entering date of booking to the arrival date.\n",
        "4. Arrvingyear: Year of arrving\n",
        "5.ArrvingMonth : month of arrival\n",
        "6.ArrvingWeak: week of arrival\n",
        "7.ArrvingDate: date of arrival\n",
        "8.WeekendStay: Number of weekend days spent\n",
        "9. WeekStay: number of weekday spent\n",
        "10. Adults: Number of adults.\n",
        "11. Children: No. of children\n",
        "12.Babies : number of babies\n",
        "13. Meal:Type of meal booked\n",
        "14. Country: Country of origin\n",
        "15. Segment: Market segement Distribution\n",
        "16. DistChannel: Booking distribution channel\n",
        "17. RepeatGuest: is a repeated guest(1) or not(0)\n",
        "18. PrevCancel: number of previous bookings cancelled by the guest\n",
        "19. Prevbook: number of previous bookings done by the customer\n",
        "20. BookRoomType: Code of type of room booked\n",
        "21. AssignRoomType: code of room assigned\n",
        "22. ChangeBooking: Number of changes made in the booking by the time of booking to the time of arrival\n",
        "23. DeposiitType:  The mode of payment used for deposited money.\n",
        "24. WaitingDays: Number of days the booking was in the waiting list before being confirmed\n",
        "25.CustomerType: Type of person: Group, Transient etc\n",
        "26. ADR: Average Daily Rate as defined by dividing the sum of all loding transactions by the total number of staying nights.\n",
        "27. ParkSpace: Number of car parking spaces requried\n",
        "28.SpecialRequest : If any Special request is made by the guest\n",
        "29.Reservation : Reservation last status\n",
        "30.Reservation Date: Date of Reservation."
      ],
      "metadata": {
        "id": "aJV4KIxSnxay"
      }
    },
    {
      "cell_type": "markdown",
      "source": [
        "### Check Unique Values for each variable."
      ],
      "metadata": {
        "id": "u3PMJOP6ngxN"
      }
    },
    {
      "cell_type": "code",
      "source": [
        "# Check Unique Values for each variable.\n",
        "hotel.nunique()"
      ],
      "metadata": {
        "id": "zms12Yq5n-jE"
      },
      "execution_count": null,
      "outputs": []
    },
    {
      "cell_type": "markdown",
      "source": [
        "## 3. ***Data Wrangling***"
      ],
      "metadata": {
        "id": "dauF4eBmngu3"
      }
    },
    {
      "cell_type": "markdown",
      "source": [
        "### Data Wrangling Code"
      ],
      "metadata": {
        "id": "bKJF3rekwFvQ"
      }
    },
    {
      "cell_type": "code",
      "source": [
        "# Write your code to make your dataset analysis ready.\n",
        "\n",
        "#Lets combine children and babies together as kids\n",
        "hotel['Kids'] = hotel.Children + hotel.Babies\n",
        "\n",
        "#Combine total mumbers by adding kids and adults\n",
        "hotel['total_members'] = hotel.Kids + hotel.Adults"
      ],
      "metadata": {
        "id": "wk-9a2fpoLcV"
      },
      "execution_count": null,
      "outputs": []
    },
    {
      "cell_type": "code",
      "source": [
        "features = ['LeadTime', 'WeekendStay', 'WeekStay', 'Adults','Children', 'Babies','ADR']\n",
        "n = 1\n",
        "plt.figure(figsize=(16,18))\n",
        "for feature in features:\n",
        "    plt.subplot(4,4,n)\n",
        "    sns.boxplot(hotel[features])\n",
        "    n+=1\n",
        "    plt.tight_layout()"
      ],
      "metadata": {
        "id": "tg2mKrwHf3Cw"
      },
      "execution_count": null,
      "outputs": []
    },
    {
      "cell_type": "markdown",
      "source": [
        "## ***4. Data Vizualization, Storytelling & Experimenting with charts : Understand the relationships between variables***"
      ],
      "metadata": {
        "id": "GF8Ens_Soomf"
      }
    },
    {
      "cell_type": "markdown",
      "source": [
        "#### Chart - 1"
      ],
      "metadata": {
        "id": "0wOQAZs5pc--"
      }
    },
    {
      "cell_type": "code",
      "source": [
        "# Chart - 1 visualization code\n",
        "plt.figure(figsize=(12,6))\n",
        "sns.barplot(x='ArrivingYear', y='LeadTime',hue='Canceled', data= hotel, palette='vlag')\n",
        "plt.title('Arriving year, Leadtime and Cancelations')"
      ],
      "metadata": {
        "id": "7v_ESjsspbW7"
      },
      "execution_count": null,
      "outputs": [
         {
          "output_type": "display_data",
          "data": {
            "image/png": "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\n",
            "text/plain": [
              "<Figure size 504x360 with 1 Axes>
      ]
    },
       
    {
      "cell_type": "markdown",
      "source": [
        "##### 1. Why did you pick the specific chart?"
      ],
      "metadata": {
        "id": "K5QZ13OEpz2H"
      }
    },
    {
      "cell_type": "markdown",
      "source": [
        "#### Best fit fo this interpretation"
      ],
      "metadata": {
        "id": "XESiWehPqBRc"
      }
    },
    {
      "cell_type": "markdown",
      "source": [
        "##### 2. What is/are the insight(s) found from the chart?"
      ],
      "metadata": {
        "id": "lQ7QKXXCp7Bj"
      }
    },
    {
      "cell_type": "markdown",
      "source": [
        "For all the 3 years, bookings with a lead time less than 100 days have fewer chances of getting canceled, and lead time more than 100 days have more chances of getting canceled"
      ],
      "metadata": {
        "id": "C_j1G7yiqdRP"
      }
    },
    {
      "cell_type": "markdown",
      "source": [
        "##### 3. Will the gained insights help creating a positive business impact?\n",
        "Are there any insights that lead to negative growth? Justify with specific reason."
      ],
      "metadata": {
        "id": "448CDAPjqfQr"
      }
    },
    {
      "cell_type": "markdown",
      "source": [
        "Yes, It will impact the business in a positive way."
      ],
      "metadata": {
        "id": "3cspy4FjqxJW"
      }
    },
    {
      "cell_type": "markdown",
      "source": [
        "#### Chart - 2"
      ],
      "metadata": {
        "id": "KSlN3yHqYklG"
      }
    },
    {
      "cell_type": "code",
      "source": [
        "# Chart - 2 visualization code\n",
        "country_visitors = hotel[hotel['Canceled'] == '0'].groupby(['Country']).size().reset_index(name = 'count')\n",
        "\n",
        "\n",
        "import plotly.express as px\n",
        "\n",
        "px.choropleth(country_visitors,\n",
        "                    locations = \"Country\",\n",
        "                    color= \"count\" ,\n",
        "                    hover_name= \"Country\", # column to add to hover information\n",
        "                    color_continuous_scale=\"Viridis\",\n",
        "                    title=\"Home country of visitors\")"
      ],
      "metadata": {
        "id": "R4YgtaqtYklH"
      },
      "execution_count": null,
      "outputs": []
    },
    {
      "cell_type": "markdown",
      "source": [
        "##### 1. Why did you pick the specific chart?"
      ],
      "metadata": {
        "id": "t6dVpIINYklI"
      }
    },
    {
      "cell_type": "markdown",
      "source": [
        "\n",
        "\n",
        "#### Best fit fo this interpretation\n"
      ],
      "metadata": {
        "id": "5aaW0BYyYklI"
      }
    },
    {
      "cell_type": "markdown",
      "source": [
        "##### 2. What is/are the insight(s) found from the chart?"
      ],
      "metadata": {
        "id": "ijmpgYnKYklI"
      }
    },
    {
      "cell_type": "markdown",
      "source": [
        "### More visitors are from western europe, namely France,UK and Portugal being the highest."
      ],
      "metadata": {
        "id": "PSx9atu2YklI"
      }
    },
    {
      "cell_type": "markdown",
      "source": [
        "##### 3. Will the gained insights help creating a positive business impact?\n",
        "Are there any insights that lead to negative growth? Justify with specific reason."
      ],
      "metadata": {
        "id": "-JiQyfWJYklI"
      }
    },
    {
      "cell_type": "markdown",
      "source": [
        " Yes, It will impact the business in a positive way. As we can know about the regions from where we get the highest customer rate so we can alter our food and other services as they would like."
      ],
      "metadata": {
        "id": "BcBbebzrYklV"
      }
    },
    {
      "cell_type": "markdown",
      "source": [
        "#### Chart - 3"
      ],
      "metadata": {
        "id": "EM7whBJCYoAo"
      }
    },
    {
      "cell_type": "code",
      "source": [
        "# Chart - 3 visualization code\n",
        "canceled_data = hotel['Canceled']\n",
        "sns.countplot(canceled_data, palette='husl')\n",
        "\n",
        "plt.show()"
      ],
      "metadata": {
        "id": "t6GMdE67YoAp"
      },
      "execution_count": null,
      "outputs": []
    },
    {
      "cell_type": "markdown",
      "source": [
        "##### 1. Why did you pick the specific chart?"
      ],
      "metadata": {
        "id": "fge-S5ZAYoAp"
      }
    },
    {
      "cell_type": "markdown",
      "source": [
        "\n",
        "#### Best fit fo this interpretation"
      ],
      "metadata": {
        "id": "5dBItgRVYoAp"
      }
    },
    {
      "cell_type": "markdown",
      "source": [
        "##### 2. What is/are the insight(s) found from the chart?"
      ],
      "metadata": {
        "id": "85gYPyotYoAp"
      }
    },
    {
      "cell_type": "markdown",
      "source": [
        "####Majority of bookings were not canceled, still some half of the bookings were canceled"
      ],
      "metadata": {
        "id": "4jstXR6OYoAp"
      }
    },
    {
      "cell_type": "markdown",
      "source": [
        "##### 3. Will the gained insights help creating a positive business impact?\n",
        "Are there any insights that lead to negative growth? Justify with specific reason."
      ],
      "metadata": {
        "id": "RoGjAbkUYoAp"
      }
    },
    {
      "cell_type": "markdown",
      "source": [
        "Yes, It will impact the business in a positive way. We can get to know the reason for cancellation and can alter our services so furthur booking don't get cancelled."
      ],
      "metadata": {
        "id": "zfJ8IqMcYoAp"
      }
    },
    {
      "cell_type": "markdown",
      "source": [
        "#### Chart - 4"
      ],
      "metadata": {
        "id": "4Of9eVA-YrdM"
      }
    },
    {
      "cell_type": "code",
      "source": [
        "# Chart - 4 visualization code\n",
        "cols = ['gold', 'lightcoral']\n",
        "hotel['Canceled'].value_counts().plot.pie(autopct='%1.1f%%',shadow=True, colors=cols)"
      ],
      "metadata": {
        "id": "irlUoxc8YrdO"
      },
      "execution_count": null,
      "outputs": []
    },
    {
      "cell_type": "markdown",
      "source": [
        "##### 1. Why did you pick the specific chart?"
      ],
      "metadata": {
        "id": "iky9q4vBYrdO"
      }
    },
    {
      "cell_type": "markdown",
      "source": [
        "\n",
        "#### Best fit fo this interpretation"
      ],
      "metadata": {
        "id": "aJRCwT6DYrdO"
      }
    },
    {
      "cell_type": "markdown",
      "source": [
        "##### 2. What is/are the insight(s) found from the chart?"
      ],
      "metadata": {
        "id": "F6T5p64dYrdO"
      }
    },
    {
      "cell_type": "markdown",
      "source": [
        "According to the pie chart, 63% of bookings were not canceled and 37% of the bookings were canceled at the Hotel."
      ],
      "metadata": {
        "id": "Xx8WAJvtYrdO"
      }
    },
    {
      "cell_type": "markdown",
      "source": [
        "##### 3. Will the gained insights help creating a positive business impact?\n",
        "Are there any insights that lead to negative growth? Justify with specific reason."
      ],
      "metadata": {
        "id": "y-Ehk30pYrdP"
      }
    },
    {
      "cell_type": "markdown",
      "source": [
        "Yes, It will impact the business in a positive way. This shows the percent of cancellation done by the customers so we can get to know the reasons and curb future cancelations."
      ],
      "metadata": {
        "id": "jLNxxz7MYrdP"
      }
    },
    {
      "cell_type": "markdown",
      "source": [
        "#### Chart - 5"
      ],
      "metadata": {
        "id": "bamQiAODYuh1"
      }
    },
    {
      "cell_type": "code",
      "source": [
        "# Chart - 5 visualization code\n",
        "plt.figure(figsize=(12, 6))\n",
        "\n",
        "sns.countplot(x='Hotel',hue=\"Canceled\", data=hotel,palette='Pastel1')\n",
        "plt.title(\"Cancelation rates in City hotel and Resort hotel\",fontweight=\"bold\", size=20)\n",
        "plt.show()"
      ],
      "metadata": {
        "id": "TIJwrbroYuh3"
      },
      "execution_count": null,
      "outputs": []
    },
    {
      "cell_type": "markdown",
      "source": [
        "##### 1. Why did you pick the specific chart?"
      ],
      "metadata": {
        "id": "QHF8YVU7Yuh3"
      }
    },
    {
      "cell_type": "markdown",
      "source": [
        "\n",
        "#### Best fit fo this interpretation"
      ],
      "metadata": {
        "id": "dcxuIMRPYuh3"
      }
    },
    {
      "cell_type": "markdown",
      "source": [
        "##### 2. What is/are the insight(s) found from the chart?"
      ],
      "metadata": {
        "id": "GwzvFGzlYuh3"
      }
    },
    {
      "cell_type": "markdown",
      "source": [
        "### Most bookings were in city hotel\n",
        "### Cancelations in Resort hotel is less compared to city hotel"
      ],
      "metadata": {
        "id": "uyqkiB8YYuh3"
      }
    },
    {
      "cell_type": "markdown",
      "source": [
        "##### 3. Will the gained insights help creating a positive business impact?\n",
        "Are there any insights that lead to negative growth? Justify with specific reason."
      ],
      "metadata": {
        "id": "qYpmQ266Yuh3"
      }
    },
    {
      "cell_type": "markdown",
      "source": [
        "Yes, It will impact the business in a positive way. This helps to know the rate of cancellations in hotels and resort and we can invest more funds where the cancelation is low so we can get higher rewards."
      ],
      "metadata": {
        "id": "_WtzZ_hCYuh4"
      }
    },
    {
      "cell_type": "markdown",
      "source": [
        "#### Chart - 6"
      ],
      "metadata": {
        "id": "OH-pJp9IphqM"
      }
    },
    {
      "cell_type": "code",
      "source": [
        "# Chart - 6 visualization code\n",
        "plt.figure(figsize=(15, 8))\n",
        "plt.subplot(1, 2, 1)\n",
        "sns.countplot(x='ArrivingYear',hue='Hotel', data=hotel,palette='husl')\n",
        "plt.title(\"Arrivals per year in Both hotels \",fontweight=\"bold\", size=20)\n",
        "plt.subplot(1, 2, 2)\n",
        "sns.countplot(data = hotel, x = 'ArrivingMonth')\n",
        "plt.title('Arrivals per month',fontweight=\"bold\", size=20)\n",
        "plt.subplots_adjust(right=1.7)\n",
        "\n",
        "plt.show()"
      ],
      "metadata": {
        "id": "kuRf4wtuphqN"
      },
      "execution_count": null,
      "outputs": []
    },
    {
      "cell_type": "markdown",
      "source": [
        "##### 1. Why did you pick the specific chart?"
      ],
      "metadata": {
        "id": "bbFf2-_FphqN"
      }
    },
    {
      "cell_type": "markdown",
      "source": [
        "\n",
        "#### Best fit fo this interpretation"
      ],
      "metadata": {
        "id": "loh7H2nzphqN"
      }
    },
    {
      "cell_type": "markdown",
      "source": [
        "##### 2. What is/are the insight(s) found from the chart?"
      ],
      "metadata": {
        "id": "_ouA3fa0phqN"
      }
    },
    {
      "cell_type": "markdown",
      "source": [
        "### We can see most of the bookings were in the year 2016 and bookings were doine in City hotel\n",
        "### Most bookings were done in the month of May,June, July, August"
      ],
      "metadata": {
        "id": "VECbqPI7phqN"
      }
    },
    {
      "cell_type": "markdown",
      "source": [
        "##### 3. Will the gained insights help creating a positive business impact?\n",
        "Are there any insights that lead to negative growth? Justify with specific reason."
      ],
      "metadata": {
        "id": "Seke61FWphqN"
      }
    },
    {
      "cell_type": "markdown",
      "source": [
        "Yes, It will impact the business in a positive way."
      ],
      "metadata": {
        "id": "DW4_bGpfphqN"
      }
    },
    {
      "cell_type": "markdown",
      "source": [
        "#### Chart - 7"
      ],
      "metadata": {
        "id": "PIIx-8_IphqN"
      }
    },
    {
      "cell_type": "code",
      "source": [
        "# Chart - 7 visualization code\n",
        "plt.figure(figsize=(15,6))\n",
        "\n",
        "sns.countplot(data = hotel, x = 'ArrivingDate', hue='Hotel', palette='Paired')\n",
        "plt.show()"
      ],
      "metadata": {
        "id": "lqAIGUfyphqO"
      },
      "execution_count": null,
      "outputs": []
    },
    {
      "cell_type": "markdown",
      "source": [
        "##### 1. Why did you pick the specific chart?"
      ],
      "metadata": {
        "id": "t27r6nlMphqO"
      }
    },
    {
      "cell_type": "markdown",
      "source": [
        "\n",
        "#### Best fit fo this interpretation"
      ],
      "metadata": {
        "id": "iv6ro40sphqO"
      }
    },
    {
      "cell_type": "markdown",
      "source": [
        "##### 2. What is/are the insight(s) found from the chart?"
      ],
      "metadata": {
        "id": "r2jJGEOYphqO"
      }
    },
    {
      "cell_type": "markdown",
      "source": [
        "### Month end day has very less arrivals\n",
        "### Bookings are more in City hotel"
      ],
      "metadata": {
        "id": "Po6ZPi4hphqO"
      }
    },
    {
      "cell_type": "markdown",
      "source": [
        "##### 3. Will the gained insights help creating a positive business impact?\n",
        "Are there any insights that lead to negative growth? Justify with specific reason."
      ],
      "metadata": {
        "id": "b0JNsNcRphqO"
      }
    },
    {
      "cell_type": "markdown",
      "source": [
        "Yes, It will impact the business in a positive way.  This shows that booking in the month end period is low so we can have repairing and other works during that time."
      ],
      "metadata": {
        "id": "xvSq8iUTphqO"
      }
    },
    {
      "cell_type": "markdown",
      "source": [
        "#### Chart - 8"
      ],
      "metadata": {
        "id": "BZR9WyysphqO"
      }
    },
    {
      "cell_type": "code",
      "source": [
        "# Chart - 8 visualization code\n",
        "plt.figure(figsize=(12, 6))\n",
        "\n",
        "sns.countplot(data = hotel, x = 'DepositType',hue='Hotel', palette='cool')\n",
        "plt.title('Types of Deposit type',fontweight=\"bold\", size=20)\n",
        "\n",
        "\n",
        "plt.show()"
      ],
      "metadata": {
        "id": "TdPTWpAVphqO"
      },
      "execution_count": null,
      "outputs": []
    },
    {
      "cell_type": "markdown",
      "source": [
        "##### 1. Why did you pick the specific chart?"
      ],
      "metadata": {
        "id": "jj7wYXLtphqO"
      }
    },
    {
      "cell_type": "markdown",
      "source": [
        "\n",
        "#### Best fit fo this interpretation"
      ],
      "metadata": {
        "id": "Ob8u6rCTphqO"
      }
    },
    {
      "cell_type": "markdown",
      "source": [
        "##### 2. What is/are the insight(s) found from the chart?"
      ],
      "metadata": {
        "id": "eZrbJ2SmphqO"
      }
    },
    {
      "cell_type": "markdown",
      "source": [
        "\\"
      ],
      "metadata": {
        "id": "mZtgC_hjphqO"
      }
    },
    {
      "cell_type": "markdown",
      "source": [
        "##### 3. Will the gained insights help creating a positive business impact?\n",
        "Are there any insights that lead to negative growth? Justify with specific reason."
      ],
      "metadata": {
        "id": "rFu4xreNphqO"
      }
    },
    {
      "cell_type": "markdown",
      "source": [
        "Yes, It will impact the business in a positive way."
      ],
      "metadata": {
        "id": "ey_0qi68phqO"
      }
    },
    {
      "cell_type": "markdown",
      "source": [
        "#### Chart - 9"
      ],
      "metadata": {
        "id": "YJ55k-q6phqO"
      }
    },
    {
      "cell_type": "code",
      "source": [
        "# Chart - 9 visualization code\n",
        "plt.figure(figsize=(8,6))\n",
        "sns.countplot(data = hotel, x = 'RepeatGuest').set_title('Graph showing whether guest is repeated guest', fontsize = 20)\n",
        "plt.show()"
      ],
      "metadata": {
        "id": "B2aS4O1ophqO"
      },
      "execution_count": null,
      "outputs": []
    },
    {
      "cell_type": "markdown",
      "source": [
        "##### 1. Why did you pick the specific chart?"
      ],
      "metadata": {
        "id": "gCFgpxoyphqP"
      }
    },
    {
      "cell_type": "markdown",
      "source": [
        "\n",
        "#### Best fit fo this interpretation"
      ],
      "metadata": {
        "id": "TVxDimi2phqP"
      }
    },
    {
      "cell_type": "markdown",
      "source": [
        "##### 2. What is/are the insight(s) found from the chart?"
      ],
      "metadata": {
        "id": "OVtJsKN_phqQ"
      }
    },
    {
      "cell_type": "markdown",
      "source": [
        "Answer Here"
      ],
      "metadata": {
        "id": "ngGi97qjphqQ"
      }
    },
    {
      "cell_type": "markdown",
      "source": [
        "##### 3. Will the gained insights help creating a positive business impact?\n",
        "Are there any insights that lead to negative growth? Justify with specific reason."
      ],
      "metadata": {
        "id": "lssrdh5qphqQ"
      }
    },
    {
      "cell_type": "markdown",
      "source": [
        "Yes, It will impact the business in a positive way. This shows if a customer is a returning customers , so to retain him we can offer him a discoubt."
      ],
      "metadata": {
        "id": "tBpY5ekJphqQ"
      }
    },
    {
      "cell_type": "markdown",
      "source": [
        "#### Chart - 10"
      ],
      "metadata": {
        "id": "U2RJ9gkRphqQ"
      }
    },
    {
      "cell_type": "code",
      "source": [
        "# Chart - 10 visualization code\n",
        "plt.figure(figsize=(12,6))\n",
        "sns.lineplot(x='ArrivingMonth', y='ADR', hue='Hotel', data= hotel)\n",
        "plt.show()"
      ],
      "metadata": {
        "id": "GM7a4YP4phqQ"
      },
      "execution_count": null,
      "outputs": []
    },
    {
      "cell_type": "markdown",
      "source": [
        "##### 1. Why did you pick the specific chart?"
      ],
      "metadata": {
        "id": "1M8mcRywphqQ"
      }
    },
    {
      "cell_type": "markdown",
      "source": [
        "\n",
        "#### Best fit fo this interpretation"
      ],
      "metadata": {
        "id": "8agQvks0phqQ"
      }
    },
    {
      "cell_type": "markdown",
      "source": [
        "##### 2. What is/are the insight(s) found from the chart?"
      ],
      "metadata": {
        "id": "tgIPom80phqQ"
      }
    },
    {
      "cell_type": "markdown",
      "source": [
        "Answer Here"
      ],
      "metadata": {
        "id": "Qp13pnNzphqQ"
      }
    },
    {
      "cell_type": "markdown",
      "source": [
        "##### 3. Will the gained insights help creating a positive business impact?\n",
        "Are there any insights that lead to negative growth? Justify with specific reason."
      ],
      "metadata": {
        "id": "JMzcOPDDphqR"
      }
    },
    {
      "cell_type": "markdown",
      "source": [
        "Yes, It will impact the business in a positive way."
      ],
      "metadata": {
        "id": "R4Ka1PC2phqR"
      }
    },
    {
      "cell_type": "markdown",
      "source": [
        "#### Chart - 11"
      ],
      "metadata": {
        "id": "x-EpHcCOp1ci"
      }
    },
    {
      "cell_type": "code",
      "source": [
        "# Chart - 11 visualization code\n",
        "plt.figure(figsize=(15, 8))\n",
        "plt.subplot(1, 2, 1)\n",
        "sns.countplot(x='WeekendStay',hue='Hotel', data=hotel, palette='cool')\n",
        "plt.title(\"Number of stays on weekend nights\",fontweight=\"bold\", size=20)\n",
        "plt.subplot(1, 2, 2)\n",
        "sns.countplot(data = hotel, x = 'WeekendStay', hue='Canceled', palette='rocket')\n",
        "plt.title('WeekendStay vs Cancelation',fontweight=\"bold\", size=20)\n",
        "plt.subplots_adjust(right=1.7)\n",
        "\n",
        "plt.show()\n"
      ],
      "metadata": {
        "id": "mAQTIvtqp1cj"
      },
      "execution_count": null,
      "outputs": []
    },
    {
      "cell_type": "markdown",
      "source": [
        "##### 1. Why did you pick the specific chart?"
      ],
      "metadata": {
        "id": "X_VqEhTip1ck"
      }
    },
    {
      "cell_type": "markdown",
      "source": [
        "\n",
        "#### Best fit fo this interpretation"
      ],
      "metadata": {
        "id": "-vsMzt_np1ck"
      }
    },
    {
      "cell_type": "markdown",
      "source": [
        "##### 2. What is/are the insight(s) found from the chart?"
      ],
      "metadata": {
        "id": "8zGJKyg5p1ck"
      }
    },
    {
      "cell_type": "markdown",
      "source": [
        "Answer Here"
      ],
      "metadata": {
        "id": "ZYdMsrqVp1ck"
      }
    },
    {
      "cell_type": "markdown",
      "source": [
        "##### 3. Will the gained insights help creating a positive business impact?\n",
        "Are there any insights that lead to negative growth? Justify with specific reason."
      ],
      "metadata": {
        "id": "PVzmfK_Ep1ck"
      }
    },
    {
      "cell_type": "markdown",
      "source": [
        "Yes, It will impact the business in a positive way."
      ],
      "metadata": {
        "id": "druuKYZpp1ck"
      }
    },
    {
      "cell_type": "markdown",
      "source": [
        "#### Chart - 12"
      ],
      "metadata": {
        "id": "n3dbpmDWp1ck"
      }
    },
    {
      "cell_type": "code",
      "source": [
        "# Chart - 12 visualization code\n",
        "plt.figure(figsize=(15, 8))\n",
        "plt.subplot(1, 2, 1)\n",
        "sns.countplot(x='WeekStay',hue='Hotel', data=hotel, palette='rainbow_r')\n",
        "plt.title(\"Number of stays on weekday nights\",fontweight=\"bold\", size=20)\n",
        "plt.subplot(1, 2, 2)\n",
        "sns.countplot(data = hotel, x = 'WeekStay', hue='Canceled', palette='magma_r')\n",
        "plt.title('WeekStay vs Cancelations',fontweight=\"bold\", size=20)\n",
        "plt.subplots_adjust(right=1.7)\n",
        "\n",
        "\n",
        "plt.show()\n"
      ],
      "metadata": {
        "id": "bwevp1tKp1ck"
      },
      "execution_count": null,
      "outputs": []
    },
    {
      "cell_type": "markdown",
      "source": [
        "##### 1. Why did you pick the specific chart?"
      ],
      "metadata": {
        "id": "ylSl6qgtp1ck"
      }
    },
    {
      "cell_type": "markdown",
      "source": [
        "\n",
        "#### Best fit fo this interpretation"
      ],
      "metadata": {
        "id": "m2xqNkiQp1ck"
      }
    },
    {
      "cell_type": "markdown",
      "source": [
        "##### 2. What is/are the insight(s) found from the chart?"
      ],
      "metadata": {
        "id": "ZWILFDl5p1ck"
      }
    },
    {
      "cell_type": "markdown",
      "source": [
        "Answer Here"
      ],
      "metadata": {
        "id": "x-lUsV2mp1ck"
      }
    },
    {
      "cell_type": "markdown",
      "source": [
        "##### 3. Will the gained insights help creating a positive business impact?\n",
        "Are there any insights that lead to negative growth? Justify with specific reason."
      ],
      "metadata": {
        "id": "M7G43BXep1ck"
      }
    },
    {
      "cell_type": "markdown",
      "source": [
        "Yes, It will impact the business in a positive way."
      ],
      "metadata": {
        "id": "5wwDJXsLp1cl"
      }
    },
    {
      "cell_type": "markdown",
      "source": [
        "#### Chart - 13"
      ],
      "metadata": {
        "id": "Ag9LCva-p1cl"
      }
    },
    {
      "cell_type": "code",
      "source": [
        "# Chart - 13 visualization code\n",
        "plt.figure(figsize=(15, 8))\n",
        "plt.subplot(1, 2, 1)\n",
        "sns.countplot(x='Adults',hue='Hotel', data=hotel, palette='pastel')\n",
        "plt.title(\"Number of adults in both hotels\",fontweight=\"bold\", size=20)\n",
        "plt.subplot(1, 2, 2)\n",
        "sns.countplot(data = hotel, x = 'Adults', hue='Canceled', palette='husl')\n",
        "plt.title('Adults vs Cancelations',fontweight=\"bold\", size=20)\n",
        "plt.subplots_adjust(right=1.7)\n",
        "\n",
        "\n",
        "plt.show()\n",
        "\n"
      ],
      "metadata": {
        "id": "EUfxeq9-p1cl"
      },
      "execution_count": null,
      "outputs": []
    },
    {
      "cell_type": "markdown",
      "source": [
        "##### 1. Why did you pick the specific chart?"
      ],
      "metadata": {
        "id": "E6MkPsBcp1cl"
      }
    },
    {
      "cell_type": "markdown",
      "source": [
        "Best Fit for this comparsion."
      ],
      "metadata": {
        "id": "V22bRsFWp1cl"
      }
    },
    {
      "cell_type": "markdown",
      "source": [
        "##### 2. What is/are the insight(s) found from the chart?"
      ],
      "metadata": {
        "id": "2cELzS2fp1cl"
      }
    },
    {
      "cell_type": "markdown",
      "source": [
        "### Adults who were 2 in number are more and preferred city hotel rather than resort hotel, infact more than half the visitors even canceled the bookings"
      ],
      "metadata": {
        "id": "ozQPc2_Ip1cl"
      }
    },
    {
      "cell_type": "markdown",
      "source": [
        "##### 3. Will the gained insights help creating a positive business impact?\n",
        "Are there any insights that lead to negative growth? Justify with specific reason."
      ],
      "metadata": {
        "id": "3MPXvC8up1cl"
      }
    },
    {
      "cell_type": "markdown",
      "source": [
        "It will be an positive outcome as it will tell us that adults alone will cancel less or adults with children will cancel more."
      ],
      "metadata": {
        "id": "GL8l1tdLp1cl"
      }
    },
    {
      "cell_type": "markdown",
      "source": [
        "#### Chart - 14 - Correlation Heatmap"
      ],
      "metadata": {
        "id": "NC_X3p0fY2L0"
      }
    },
    {
      "cell_type": "code",
      "source": [
        "# Correlation Heatmap visualization code\n",
        "plt.figure(figsize=(12,8))\n",
        "sns.heatmap(hotel.corr(),annot=True,cmap='RdYlGn')"
      ],
      "metadata": {
        "id": "xyC9zolEZNRQ"
      },
      "execution_count": null,
      "outputs": []
    },
    {
      "cell_type": "markdown",
      "source": [
        "##### 1. Why did you pick the specific chart?"
      ],
      "metadata": {
        "id": "UV0SzAkaZNRQ"
      }
    },
    {
      "cell_type": "markdown",
      "source": [
        "\n",
        "#### Best fit fo this interpretation"
      ],
      "metadata": {
        "id": "DVPuT8LYZNRQ"
      }
    },
    {
      "cell_type": "markdown",
      "source": [
        "##### 2. What is/are the insight(s) found from the chart?"
      ],
      "metadata": {
        "id": "YPEH6qLeZNRQ"
      }
    },
    {
      "cell_type": "markdown",
      "source": [
        "Answer Here"
      ],
      "metadata": {
        "id": "bfSqtnDqZNRR"
      }
    },
    {
      "cell_type": "markdown",
      "source": [
        "#### Chart - 15 - Pair Plot"
      ],
      "metadata": {
        "id": "q29F0dvdveiT"
      }
    },
    {
      "cell_type": "code",
      "source": [],
      "metadata": {
        "id": "LnBmMPJAGz6W"
      },
      "execution_count": null,
      "outputs": []
    },
    {
      "cell_type": "markdown",
      "source": [
        "##### 1. Why did you pick the specific chart?"
      ],
      "metadata": {
        "id": "EXh0U9oCveiU"
      }
    },
    {
      "cell_type": "markdown",
      "source": [
        "Best Fit\n"
      ],
      "metadata": {
        "id": "eMmPjTByveiU"
      }
    },
    {
      "cell_type": "markdown",
      "source": [
        "##### 2. What is/are the insight(s) found from the chart?"
      ],
      "metadata": {
        "id": "22aHeOlLveiV"
      }
    },
    {
      "cell_type": "markdown",
      "source": [
        "Answer Here"
      ],
      "metadata": {
        "id": "uPQ8RGwHveiV"
      }
    },
    {
      "cell_type": "markdown",
      "source": [
        "## **5. Solution to Business Objective**"
      ],
      "metadata": {
        "id": "JcMwzZxoAimU"
      }
    },
    {
      "cell_type": "markdown",
      "source": [
        "#### What do you suggest the client to achieve Business Objective ?\n",
        "Explain briefly.\n"
      ],
      "metadata": {
        "id": "8G2x9gOozGDZ"
      }
    },
    {
      "cell_type": "markdown",
      "source": [
        "####The main suggestion I can lend to the hotel management team is to go through this Visualization and counter all the negative aspects in theseand boost their services as that will help them to achieve whatever they need. Also boosting the region wise sale they need to host new offers on regular basis so that the customers do not get bored of the same pricing and also alter their services accordingly."
      ],
      "metadata": {
        "id": "pASKb0qOza21"
      }
    },
    {
      "cell_type": "markdown",
      "source": [
        "# **Conclusion**"
      ],
      "metadata": {
        "id": "gCX9965dhzqZ"
      }
    },
    {
      "cell_type": "markdown",
      "source": [
        "####Around 60% bookings are for City hotel and 40% bookings are for Resort hotel, therefore City Hotel is busier than Resort hotel. Also the overall adr of City hotel is slightly higher than Resort hotel.\n",
        "• Mostly guests stay for less than 5 days in hotel and for longer stays Resort hotel is preferred.\n",
        "Both hotels have significantly higher booking cancellation rates and very few guests less than 3% return for another booking in City hotel. 5% guests return for stay in Resort hotel.\n",
        "\n",
        "• Most of the guests came from european countries, with most no. of guest coming from Portugal.\n",
        "\n",
        "• Guests use different channels for making bookings out of which most preferred way is TA/TO.\n",
        "\n",
        "• For hotels higher adr deals come via GDS channel, so hotels should increase their popularity on this channel.\n",
        "\n",
        "• Almost 30% of bookings via TA/TO are cancelled.\n",
        "\n",
        "• Not getting same room as reserved, longer lead time and waiting time do not affect cancellation of bookings.\n",
        "\n",
        "Although different room allotment do lowers the adr.\n",
        "\n",
        "• July- August are the most busier and profitable months for both of hotels.\n",
        "\n",
        "• Within a month, adr gradually increases as month ends, with small sudden rise on weekends.\n",
        "\n",
        "• Couples are the most common guests for hotels, hence hotels can plan services according to couples needs to increase revenue.\n",
        "\n",
        "• More number of people in guests results in more number of special requests.\n",
        "\n",
        "• Bookings made via complementary market segment and adults have on average high no. of special request.\n",
        "\n",
        "• For customers, generally the longer stays (more than 15 days) can result in better deals in terms of low adr.\n"
      ],
      "metadata": {
        "id": "Fjb1IsQkh3yE"
      }
    },
    {
      "cell_type": "markdown",
      "source": [
        "### ***Hurrah! You have successfully completed your EDA Capstone Project !!!***"
      ],
      "metadata": {
        "id": "gIfDvo9L0UH2"
      }
    }
  ]
}
